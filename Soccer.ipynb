{
 "cells": [
  {
   "cell_type": "markdown",
   "metadata": {},
   "source": [
    "# Collaboration and Competition\n",
    "\n",
    "---\n",
    "\n",
    "Congratulations for completing the third project of the [Deep Reinforcement Learning Nanodegree](https://www.udacity.com/course/deep-reinforcement-learning-nanodegree--nd893) program!  In this notebook, you will learn how to control agents in a more challenging environment, where the goal is to train a team of agents to play soccer.  **Note that this exercise is optional!**\n",
    "\n",
    "### 1. Start the Environment\n",
    "\n",
    "We begin by importing the necessary packages.  If the code cell below returns an error, please revisit the project instructions to double-check that you have installed [Unity ML-Agents](https://github.com/Unity-Technologies/ml-agents/blob/master/docs/Installation.md) and [NumPy](http://www.numpy.org/)."
   ]
  },
  {
   "cell_type": "code",
   "execution_count": 1,
   "metadata": {},
   "outputs": [],
   "source": [
    "# !pip -q install ../python"
   ]
  },
  {
   "cell_type": "code",
   "execution_count": 2,
   "metadata": {},
   "outputs": [],
   "source": [
    "from unityagents import UnityEnvironment\n",
    "import numpy as np"
   ]
  },
  {
   "cell_type": "markdown",
   "metadata": {},
   "source": [
    "Next, we will start the environment!  **_Before running the code cell below_**, change the `file_name` parameter to match the location of the Unity environment that you downloaded.\n",
    "\n",
    "- **Mac**: `\"path/to/Soccer.app\"`\n",
    "- **Windows** (x86): `\"path/to/Soccer_Windows_x86/Soccer.exe\"`\n",
    "- **Windows** (x86_64): `\"path/to/Soccer_Windows_x86_64/Soccer.exe\"`\n",
    "- **Linux** (x86): `\"path/to/Soccer_Linux/Soccer.x86\"`\n",
    "- **Linux** (x86_64): `\"path/to/Soccer_Linux/Soccer.x86_64\"`\n",
    "- **Linux** (x86, headless): `\"path/to/Soccer_Linux_NoVis/Soccer.x86\"`\n",
    "- **Linux** (x86_64, headless): `\"path/to/Soccer_Linux_NoVis/Soccer.x86_64\"`\n",
    "\n",
    "For instance, if you are using a Mac, then you downloaded `Soccer.app`.  If this file is in the same folder as the notebook, then the line below should appear as follows:\n",
    "```\n",
    "env = UnityEnvironment(file_name=\"Soccer.app\")\n",
    "```"
   ]
  },
  {
   "cell_type": "code",
   "execution_count": 3,
   "metadata": {},
   "outputs": [
    {
     "name": "stderr",
     "output_type": "stream",
     "text": [
      "INFO:unityagents:\n",
      "'Academy' started successfully!\n",
      "Unity Academy name: Academy\n",
      "        Number of Brains: 2\n",
      "        Number of External Brains : 2\n",
      "        Lesson number : 0\n",
      "        Reset Parameters :\n",
      "\t\t\n",
      "Unity brain name: GoalieBrain\n",
      "        Number of Visual Observations (per agent): 0\n",
      "        Vector Observation space type: continuous\n",
      "        Vector Observation space size (per agent): 112\n",
      "        Number of stacked Vector Observation: 3\n",
      "        Vector Action space type: discrete\n",
      "        Vector Action space size (per agent): 4\n",
      "        Vector Action descriptions: , , , \n",
      "Unity brain name: StrikerBrain\n",
      "        Number of Visual Observations (per agent): 0\n",
      "        Vector Observation space type: continuous\n",
      "        Vector Observation space size (per agent): 112\n",
      "        Number of stacked Vector Observation: 3\n",
      "        Vector Action space type: discrete\n",
      "        Vector Action space size (per agent): 6\n",
      "        Vector Action descriptions: , , , , , \n"
     ]
    }
   ],
   "source": [
    "env = UnityEnvironment(file_name=\"./Soccer_Windows_x86_64/Soccer.exe\")"
   ]
  },
  {
   "cell_type": "markdown",
   "metadata": {},
   "source": [
    "Environments contain **_brains_** which are responsible for deciding the actions of their associated agents. Here we obtain separate brains for the striker and goalie agents."
   ]
  },
  {
   "cell_type": "code",
   "execution_count": 4,
   "metadata": {},
   "outputs": [
    {
     "name": "stdout",
     "output_type": "stream",
     "text": [
      "['GoalieBrain', 'StrikerBrain']\n"
     ]
    }
   ],
   "source": [
    "# print the brain names\n",
    "print(env.brain_names)\n",
    "\n",
    "# set the goalie brain\n",
    "g_brain_name = env.brain_names[0]\n",
    "g_brain = env.brains[g_brain_name]\n",
    "\n",
    "# set the striker brain\n",
    "s_brain_name = env.brain_names[1]\n",
    "s_brain = env.brains[s_brain_name]"
   ]
  },
  {
   "cell_type": "markdown",
   "metadata": {},
   "source": [
    "### 2. Examine the State and Action Spaces\n",
    "\n",
    "Run the code cell below to print some information about the environment."
   ]
  },
  {
   "cell_type": "code",
   "execution_count": 5,
   "metadata": {},
   "outputs": [
    {
     "name": "stdout",
     "output_type": "stream",
     "text": [
      "Number of goalie agents: 2\n",
      "Number of striker agents: 2\n",
      "Number of goalie actions: 4\n",
      "Number of striker actions: 6\n",
      "There are 2 goalie agents. Each receives a state with length: 336\n",
      "There are 2 striker agents. Each receives a state with length: 336\n"
     ]
    }
   ],
   "source": [
    "# reset the environment\n",
    "env_info = env.reset(train_mode=True)\n",
    "\n",
    "# number of agents \n",
    "num_g_agents = len(env_info[g_brain_name].agents)\n",
    "print('Number of goalie agents:', num_g_agents)\n",
    "num_s_agents = len(env_info[s_brain_name].agents)\n",
    "print('Number of striker agents:', num_s_agents)\n",
    "\n",
    "# number of actions\n",
    "g_action_size = g_brain.vector_action_space_size\n",
    "print('Number of goalie actions:', g_action_size)\n",
    "s_action_size = s_brain.vector_action_space_size\n",
    "print('Number of striker actions:', s_action_size)\n",
    "\n",
    "# examine the state space \n",
    "g_states = env_info[g_brain_name].vector_observations\n",
    "g_state_size = g_states.shape[1]\n",
    "print('There are {} goalie agents. Each receives a state with length: {}'.format(g_states.shape[0], g_state_size))\n",
    "s_states = env_info[s_brain_name].vector_observations\n",
    "s_state_size = s_states.shape[1]\n",
    "print('There are {} striker agents. Each receives a state with length: {}'.format(s_states.shape[0], s_state_size))"
   ]
  },
  {
   "cell_type": "markdown",
   "metadata": {},
   "source": [
    "### 3. Take Random Actions in the Environment\n",
    "\n",
    "In the next code cell, you will learn how to use the Python API to control the agents and receive feedback from the environment.\n",
    "\n",
    "Once this cell is executed, you will watch the agents' performance, if they select actions at random with each time step.  A window should pop up that allows you to observe the agents.\n",
    "\n",
    "Of course, as part of the project, you'll have to change the code so that the agents are able to use their experiences to gradually choose better actions when interacting with the environment!"
   ]
  },
  {
   "cell_type": "code",
   "execution_count": 6,
   "metadata": {},
   "outputs": [],
   "source": [
    "# for i in range(2):                                         # play game for 2 episodes\n",
    "#     env_info = env.reset(train_mode=False)                 # reset the environment    \n",
    "#     g_states = env_info[g_brain_name].vector_observations  # get initial state (goalies)\n",
    "#     s_states = env_info[s_brain_name].vector_observations  # get initial state (strikers)\n",
    "#     g_scores = np.zeros(num_g_agents)                      # initialize the score (goalies)\n",
    "#     s_scores = np.zeros(num_s_agents)                      # initialize the score (strikers)\n",
    "#     while True:\n",
    "#         # select actions and send to environment\n",
    "#         g_actions = np.random.randint(g_action_size, size=num_g_agents)\n",
    "#         s_actions = np.random.randint(s_action_size, size=num_s_agents)\n",
    "#         actions = dict(zip([g_brain_name, s_brain_name], \n",
    "#                            [g_actions, s_actions]))\n",
    "# #         print(actions)\n",
    "#         env_info = env.step(actions)                       \n",
    "        \n",
    "#         # get next states\n",
    "#         g_next_states = env_info[g_brain_name].vector_observations         \n",
    "#         s_next_states = env_info[s_brain_name].vector_observations\n",
    "        \n",
    "#         # get reward and update scores\n",
    "#         g_rewards = env_info[g_brain_name].rewards  \n",
    "#         s_rewards = env_info[s_brain_name].rewards\n",
    "#         g_scores += g_rewards\n",
    "#         s_scores += s_rewards\n",
    "        \n",
    "#         # check if episode finished\n",
    "#         done = np.any(env_info[g_brain_name].local_done)  \n",
    "        \n",
    "#         # roll over states to next time step\n",
    "#         g_states = g_next_states\n",
    "#         s_states = s_next_states\n",
    "        \n",
    "#         # exit loop if episode finished\n",
    "#         if done:                                           \n",
    "#             break\n",
    "#     print('Scores from episode {}: {} (goalies), {} (strikers)'.format(i+1, g_scores, s_scores))"
   ]
  },
  {
   "cell_type": "markdown",
   "metadata": {},
   "source": [
    "When finished, you can close the environment."
   ]
  },
  {
   "cell_type": "code",
   "execution_count": 7,
   "metadata": {},
   "outputs": [],
   "source": [
    "# env.close()"
   ]
  },
  {
   "cell_type": "markdown",
   "metadata": {},
   "source": [
    "### 4. It's Your Turn!\n",
    "\n",
    "Now it's your turn to train your own agent to solve the environment!  When training the environment, set `train_mode=True`, so that the line for resetting the environment looks like the following:\n",
    "```python\n",
    "env_info = env.reset(train_mode=True)[brain_name]\n",
    "```"
   ]
  },
  {
   "cell_type": "code",
   "execution_count": 8,
   "metadata": {},
   "outputs": [],
   "source": [
    "# !pip -q install regex"
   ]
  },
  {
   "cell_type": "code",
   "execution_count": 9,
   "metadata": {},
   "outputs": [],
   "source": [
    "from ddpg_agent_soccer import Agent\n",
    "import os\n",
    "import regex\n",
    "from collections import deque\n",
    "import torch\n",
    "import matplotlib.pyplot as plt\n",
    "%matplotlib inline"
   ]
  },
  {
   "cell_type": "code",
   "execution_count": 10,
   "metadata": {},
   "outputs": [],
   "source": [
    "def save_file(project_name, ext=\"pth\"):\n",
    "    file_number = []\n",
    "    for file in os.listdir():\n",
    "        if regex.match(r\"{}\".format(\"{}.*.{}\".format(project_name, ext)), file):\n",
    "            extract = regex.search(r'[0-9][0-9]', file)\n",
    "            if file[extract.span()[0]] == \"0\":\n",
    "                file_number.append(int(file[extract.span()[1]-1]))\n",
    "            else:\n",
    "                file_number.append(int(\"{}{}\".format(file[extract.span()[0]],file[extract.span()[1]-1])))\n",
    "            \n",
    "            file_number.sort()\n",
    "            file_number.reverse()\n",
    "#             print(file_number)\n",
    "            \n",
    "            if file_number[0] < 9:\n",
    "                file_name = \"{}_0{}.{}\".format(project_name, file_number[0]+1, ext)\n",
    "            else:\n",
    "                file_name = \"{}_{}.{}\".format(project_name, file_number[0]+1, ext)\n",
    "\n",
    "    if len(file_number) == 0:\n",
    "        file_name = \"{}_00.{}\".format(project_name, ext)\n",
    "    \n",
    "    print(\"Latest file name should be {}\".format(file_name))\n",
    "    return file_name"
   ]
  },
  {
   "cell_type": "code",
   "execution_count": 11,
   "metadata": {},
   "outputs": [],
   "source": [
    "seed = 1 # Seed for random control\n",
    "g_agent = Agent(g_state_size, g_action_size, seed, num_g_agents)\n",
    "s_agent = Agent(s_state_size, s_action_size, seed, num_s_agents)"
   ]
  },
  {
   "cell_type": "code",
   "execution_count": 12,
   "metadata": {},
   "outputs": [],
   "source": [
    "def ddpg(n_episodes=50000, max_t=1000):\n",
    "    \n",
    "    scores_deque = deque(maxlen=100)\n",
    "    scores = []\n",
    "    BATCH_SIZE = 128\n",
    "    actor_pth = save_file(\"p3_collab_actor\", ext=\"pth\")\n",
    "    critic_pth = save_file(\"p3_collab_critic\", ext=\"pth\")\n",
    "    scored_hit = False\n",
    "    \n",
    "    i_episode = 0\n",
    "    while True:\n",
    "        i_episode += 1\n",
    "#     for i_episode in range(1, n_episodes+1):\n",
    "        env_info = env.reset(train_mode=True)                 # reset the environment    \n",
    "        g_states = env_info[g_brain_name].vector_observations  # get initial state (goalies)\n",
    "        s_states = env_info[s_brain_name].vector_observations  # get initial state (strikers)\n",
    "        g_scores = np.zeros(num_g_agents)                      # initialize the score (goalies)\n",
    "        s_scores = np.zeros(num_s_agents)                      # initialize the score (strikers)\n",
    "        g_agent.reset()\n",
    "        s_agent.reset()\n",
    "        for t in range(max_t):\n",
    "#         while True:\n",
    "            g_actions = g_agent.act(g_states)\n",
    "            s_actions = s_agent.act(s_states)\n",
    "            actions = dict(zip([g_brain_name, s_brain_name],[g_actions, s_actions])) # select an action (for each agent)\n",
    "            env_info = env.step(actions)                       # send all actions to tne environment\n",
    "            # get next states\n",
    "            g_next_states = env_info[g_brain_name].vector_observations         \n",
    "            s_next_states = env_info[s_brain_name].vector_observations\n",
    "\n",
    "            # get reward and update scores\n",
    "            g_rewards = env_info[g_brain_name].rewards  \n",
    "            s_rewards = env_info[s_brain_name].rewards\n",
    "            g_scores += g_rewards\n",
    "            s_scores += s_rewards\n",
    "\n",
    "            # check if episode finished\n",
    "            done = np.any(env_info[g_brain_name].local_done)  \n",
    "\n",
    "            # roll over states to next time step\n",
    "            g_states = g_next_states\n",
    "            s_states = s_next_states\n",
    "\n",
    "            # exit loop if episode finished\n",
    "            if done:                                           \n",
    "                break\n",
    "        \n",
    "        print('\\r Scores from episode {}: {} (goalies), {} (strikers)'.format(i_episode, g_scores, s_scores), end=\"\")\n",
    "        \n",
    "    # At the end of training with no luck\n",
    "    print(\"No luck in solving the CC problem with {} episode\".format(n_episodes))\n",
    "    \n",
    "    fig = plt.figure()\n",
    "    ax = fig.add_subplot(111)\n",
    "    plt.plot(np.arange(1, len(scores)+1), scores)\n",
    "    plt.ylabel('Score')\n",
    "    plt.xlabel('Episode #')\n",
    "    plt.savefig('{}'.format(save_file(\"p3_collab_score_plt\", ext=\"png\")))\n",
    "    plt.show()\n",
    "    \n",
    "    return scores\n",
    "\n"
   ]
  },
  {
   "cell_type": "code",
   "execution_count": 13,
   "metadata": {},
   "outputs": [
    {
     "name": "stdout",
     "output_type": "stream",
     "text": [
      "Latest file name should be p3_collab_actor_00.pth\n",
      "Latest file name should be p3_collab_critic_00.pth\n"
     ]
    },
    {
     "name": "stderr",
     "output_type": "stream",
     "text": [
      "C:\\Users\\root\\AppData\\Local\\conda\\conda\\envs\\drlnd\\lib\\site-packages\\torch\\nn\\functional.py:995: UserWarning: nn.functional.tanh is deprecated. Use torch.tanh instead.\n",
      "  warnings.warn(\"nn.functional.tanh is deprecated. Use torch.tanh instead.\")\n"
     ]
    },
    {
     "name": "stdout",
     "output_type": "stream",
     "text": [
      " Scores from episode 4699: [1.00166669 1.00166669] (goalies), [-1.00166669 -1.00166669] (strikers)"
     ]
    },
    {
     "name": "stderr",
     "output_type": "stream",
     "text": [
      "ERROR:root:Internal Python error in the inspect module.\n",
      "Below is the traceback from this internal error.\n",
      "\n",
      "INFO:root:\n",
      "Unfortunately, your original traceback can not be constructed.\n",
      "\n"
     ]
    },
    {
     "name": "stdout",
     "output_type": "stream",
     "text": [
      "Traceback (most recent call last):\n",
      "  File \"C:\\Users\\root\\AppData\\Local\\conda\\conda\\envs\\drlnd\\lib\\site-packages\\IPython\\core\\interactiveshell.py\", line 3267, in run_code\n",
      "    exec(code_obj, self.user_global_ns, self.user_ns)\n",
      "  File \"<ipython-input-13-4a8419b80771>\", line 1, in <module>\n",
      "    scores = ddpg()\n",
      "  File \"<ipython-input-12-72eca0abaf4d>\", line 23, in ddpg\n",
      "    g_actions = g_agent.act(g_states)\n",
      "  File \"C:\\Users\\root\\udacity\\p3_collab-compet\\ddpg_agent_soccer.py\", line 91, in act\n",
      "    actions = np.argmax(self.actor_local(states).cpu().data.numpy(),1)\n",
      "  File \"C:\\Users\\root\\AppData\\Local\\conda\\conda\\envs\\drlnd\\lib\\site-packages\\torch\\nn\\modules\\module.py\", line 477, in __call__\n",
      "    result = self.forward(*input, **kwargs)\n",
      "  File \"C:\\Users\\root\\udacity\\p3_collab-compet\\model.py\", line 41, in forward\n",
      "    x = F.relu(self.fc1(state))\n",
      "  File \"C:\\Users\\root\\AppData\\Local\\conda\\conda\\envs\\drlnd\\lib\\site-packages\\torch\\nn\\modules\\module.py\", line 477, in __call__\n",
      "    result = self.forward(*input, **kwargs)\n",
      "  File \"C:\\Users\\root\\AppData\\Local\\conda\\conda\\envs\\drlnd\\lib\\site-packages\\torch\\nn\\modules\\linear.py\", line 55, in forward\n",
      "    return F.linear(input, self.weight, self.bias)\n",
      "  File \"C:\\Users\\root\\AppData\\Local\\conda\\conda\\envs\\drlnd\\lib\\site-packages\\torch\\nn\\functional.py\", line 1024, in linear\n",
      "    return torch.addmm(bias, input, weight.t())\n",
      "KeyboardInterrupt\n",
      "\n",
      "During handling of the above exception, another exception occurred:\n",
      "\n",
      "Traceback (most recent call last):\n",
      "  File \"C:\\Users\\root\\AppData\\Local\\conda\\conda\\envs\\drlnd\\lib\\site-packages\\IPython\\core\\interactiveshell.py\", line 2018, in showtraceback\n",
      "    stb = value._render_traceback_()\n",
      "AttributeError: 'KeyboardInterrupt' object has no attribute '_render_traceback_'\n",
      "\n",
      "During handling of the above exception, another exception occurred:\n",
      "\n",
      "Traceback (most recent call last):\n",
      "  File \"C:\\Users\\root\\AppData\\Local\\conda\\conda\\envs\\drlnd\\lib\\site-packages\\IPython\\core\\ultratb.py\", line 1095, in get_records\n",
      "    return _fixed_getinnerframes(etb, number_of_lines_of_context, tb_offset)\n",
      "  File \"C:\\Users\\root\\AppData\\Local\\conda\\conda\\envs\\drlnd\\lib\\site-packages\\IPython\\core\\ultratb.py\", line 313, in wrapped\n",
      "    return f(*args, **kwargs)\n",
      "  File \"C:\\Users\\root\\AppData\\Local\\conda\\conda\\envs\\drlnd\\lib\\site-packages\\IPython\\core\\ultratb.py\", line 347, in _fixed_getinnerframes\n",
      "    records = fix_frame_records_filenames(inspect.getinnerframes(etb, context))\n",
      "  File \"C:\\Users\\root\\AppData\\Local\\conda\\conda\\envs\\drlnd\\lib\\inspect.py\", line 1483, in getinnerframes\n",
      "    frameinfo = (tb.tb_frame,) + getframeinfo(tb, context)\n",
      "  File \"C:\\Users\\root\\AppData\\Local\\conda\\conda\\envs\\drlnd\\lib\\inspect.py\", line 1441, in getframeinfo\n",
      "    filename = getsourcefile(frame) or getfile(frame)\n",
      "  File \"C:\\Users\\root\\AppData\\Local\\conda\\conda\\envs\\drlnd\\lib\\inspect.py\", line 696, in getsourcefile\n",
      "    if getattr(getmodule(object, filename), '__loader__', None) is not None:\n",
      "  File \"C:\\Users\\root\\AppData\\Local\\conda\\conda\\envs\\drlnd\\lib\\inspect.py\", line 739, in getmodule\n",
      "    f = getabsfile(module)\n",
      "  File \"C:\\Users\\root\\AppData\\Local\\conda\\conda\\envs\\drlnd\\lib\\inspect.py\", line 708, in getabsfile\n",
      "    _filename = getsourcefile(object) or getfile(object)\n",
      "  File \"C:\\Users\\root\\AppData\\Local\\conda\\conda\\envs\\drlnd\\lib\\inspect.py\", line 693, in getsourcefile\n",
      "    if os.path.exists(filename):\n",
      "  File \"C:\\Users\\root\\AppData\\Local\\conda\\conda\\envs\\drlnd\\lib\\genericpath.py\", line 19, in exists\n",
      "    os.stat(path)\n",
      "KeyboardInterrupt\n"
     ]
    },
    {
     "ename": "KeyboardInterrupt",
     "evalue": "",
     "output_type": "error",
     "traceback": [
      "\u001b[1;31m---------------------------------------------------------------------------\u001b[0m"
     ]
    }
   ],
   "source": [
    "scores = ddpg()"
   ]
  },
  {
   "cell_type": "code",
   "execution_count": null,
   "metadata": {},
   "outputs": [],
   "source": []
  }
 ],
 "metadata": {
  "kernelspec": {
   "display_name": "drlnd",
   "language": "python",
   "name": "drlnd"
  },
  "language_info": {
   "codemirror_mode": {
    "name": "ipython",
    "version": 3
   },
   "file_extension": ".py",
   "mimetype": "text/x-python",
   "name": "python",
   "nbconvert_exporter": "python",
   "pygments_lexer": "ipython3",
   "version": "3.6.6"
  }
 },
 "nbformat": 4,
 "nbformat_minor": 2
}
