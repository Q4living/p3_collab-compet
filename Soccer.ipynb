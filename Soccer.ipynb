{
 "cells": [
  {
   "cell_type": "markdown",
   "metadata": {},
   "source": [
    "# Collaboration and Competition\n",
    "\n",
    "---\n",
    "\n",
    "Congratulations for completing the third project of the [Deep Reinforcement Learning Nanodegree](https://www.udacity.com/course/deep-reinforcement-learning-nanodegree--nd893) program!  In this notebook, you will learn how to control agents in a more challenging environment, where the goal is to train a team of agents to play soccer.  **Note that this exercise is optional!**\n",
    "\n",
    "### 1. Start the Environment\n",
    "\n",
    "We begin by importing the necessary packages.  If the code cell below returns an error, please revisit the project instructions to double-check that you have installed [Unity ML-Agents](https://github.com/Unity-Technologies/ml-agents/blob/master/docs/Installation.md) and [NumPy](http://www.numpy.org/)."
   ]
  },
  {
   "cell_type": "code",
   "execution_count": 1,
   "metadata": {},
   "outputs": [],
   "source": [
    "# !pip -q install ../python"
   ]
  },
  {
   "cell_type": "code",
   "execution_count": 2,
   "metadata": {},
   "outputs": [],
   "source": [
    "from unityagents import UnityEnvironment\n",
    "import numpy as np"
   ]
  },
  {
   "cell_type": "markdown",
   "metadata": {},
   "source": [
    "Next, we will start the environment!  **_Before running the code cell below_**, change the `file_name` parameter to match the location of the Unity environment that you downloaded.\n",
    "\n",
    "- **Mac**: `\"path/to/Soccer.app\"`\n",
    "- **Windows** (x86): `\"path/to/Soccer_Windows_x86/Soccer.exe\"`\n",
    "- **Windows** (x86_64): `\"path/to/Soccer_Windows_x86_64/Soccer.exe\"`\n",
    "- **Linux** (x86): `\"path/to/Soccer_Linux/Soccer.x86\"`\n",
    "- **Linux** (x86_64): `\"path/to/Soccer_Linux/Soccer.x86_64\"`\n",
    "- **Linux** (x86, headless): `\"path/to/Soccer_Linux_NoVis/Soccer.x86\"`\n",
    "- **Linux** (x86_64, headless): `\"path/to/Soccer_Linux_NoVis/Soccer.x86_64\"`\n",
    "\n",
    "For instance, if you are using a Mac, then you downloaded `Soccer.app`.  If this file is in the same folder as the notebook, then the line below should appear as follows:\n",
    "```\n",
    "env = UnityEnvironment(file_name=\"Soccer.app\")\n",
    "```"
   ]
  },
  {
   "cell_type": "code",
   "execution_count": 3,
   "metadata": {},
   "outputs": [
    {
     "name": "stderr",
     "output_type": "stream",
     "text": [
      "INFO:unityagents:\n",
      "'Academy' started successfully!\n",
      "Unity Academy name: Academy\n",
      "        Number of Brains: 2\n",
      "        Number of External Brains : 2\n",
      "        Lesson number : 0\n",
      "        Reset Parameters :\n",
      "\t\t\n",
      "Unity brain name: GoalieBrain\n",
      "        Number of Visual Observations (per agent): 0\n",
      "        Vector Observation space type: continuous\n",
      "        Vector Observation space size (per agent): 112\n",
      "        Number of stacked Vector Observation: 3\n",
      "        Vector Action space type: discrete\n",
      "        Vector Action space size (per agent): 4\n",
      "        Vector Action descriptions: , , , \n",
      "Unity brain name: StrikerBrain\n",
      "        Number of Visual Observations (per agent): 0\n",
      "        Vector Observation space type: continuous\n",
      "        Vector Observation space size (per agent): 112\n",
      "        Number of stacked Vector Observation: 3\n",
      "        Vector Action space type: discrete\n",
      "        Vector Action space size (per agent): 6\n",
      "        Vector Action descriptions: , , , , , \n"
     ]
    }
   ],
   "source": [
    "env = UnityEnvironment(file_name=\"./Soccer_Windows_x86_64/Soccer.exe\")"
   ]
  },
  {
   "cell_type": "markdown",
   "metadata": {},
   "source": [
    "Environments contain **_brains_** which are responsible for deciding the actions of their associated agents. Here we obtain separate brains for the striker and goalie agents."
   ]
  },
  {
   "cell_type": "code",
   "execution_count": 4,
   "metadata": {},
   "outputs": [
    {
     "name": "stdout",
     "output_type": "stream",
     "text": [
      "['GoalieBrain', 'StrikerBrain']\n"
     ]
    }
   ],
   "source": [
    "# print the brain names\n",
    "print(env.brain_names)\n",
    "\n",
    "# set the goalie brain\n",
    "g_brain_name = env.brain_names[0]\n",
    "g_brain = env.brains[g_brain_name]\n",
    "\n",
    "# set the striker brain\n",
    "s_brain_name = env.brain_names[1]\n",
    "s_brain = env.brains[s_brain_name]"
   ]
  },
  {
   "cell_type": "markdown",
   "metadata": {},
   "source": [
    "### 2. Examine the State and Action Spaces\n",
    "\n",
    "Run the code cell below to print some information about the environment."
   ]
  },
  {
   "cell_type": "code",
   "execution_count": 5,
   "metadata": {},
   "outputs": [
    {
     "name": "stdout",
     "output_type": "stream",
     "text": [
      "Number of goalie agents: 2\n",
      "Number of striker agents: 2\n",
      "Number of goalie actions: 4\n",
      "Number of striker actions: 6\n",
      "There are 2 goalie agents. Each receives a state with length: 336\n",
      "There are 2 striker agents. Each receives a state with length: 336\n"
     ]
    }
   ],
   "source": [
    "# reset the environment\n",
    "env_info = env.reset(train_mode=True)\n",
    "\n",
    "# number of agents \n",
    "num_g_agents = len(env_info[g_brain_name].agents)\n",
    "print('Number of goalie agents:', num_g_agents)\n",
    "num_s_agents = len(env_info[s_brain_name].agents)\n",
    "print('Number of striker agents:', num_s_agents)\n",
    "\n",
    "# number of actions\n",
    "g_action_size = g_brain.vector_action_space_size\n",
    "print('Number of goalie actions:', g_action_size)\n",
    "s_action_size = s_brain.vector_action_space_size\n",
    "print('Number of striker actions:', s_action_size)\n",
    "\n",
    "# examine the state space \n",
    "g_states = env_info[g_brain_name].vector_observations\n",
    "g_state_size = g_states.shape[1]\n",
    "print('There are {} goalie agents. Each receives a state with length: {}'.format(g_states.shape[0], g_state_size))\n",
    "s_states = env_info[s_brain_name].vector_observations\n",
    "s_state_size = s_states.shape[1]\n",
    "print('There are {} striker agents. Each receives a state with length: {}'.format(s_states.shape[0], s_state_size))"
   ]
  },
  {
   "cell_type": "markdown",
   "metadata": {},
   "source": [
    "### 3. Take Random Actions in the Environment\n",
    "\n",
    "In the next code cell, you will learn how to use the Python API to control the agents and receive feedback from the environment.\n",
    "\n",
    "Once this cell is executed, you will watch the agents' performance, if they select actions at random with each time step.  A window should pop up that allows you to observe the agents.\n",
    "\n",
    "Of course, as part of the project, you'll have to change the code so that the agents are able to use their experiences to gradually choose better actions when interacting with the environment!"
   ]
  },
  {
   "cell_type": "code",
   "execution_count": 6,
   "metadata": {},
   "outputs": [],
   "source": [
    "# for i in range(2):                                         # play game for 2 episodes\n",
    "#     env_info = env.reset(train_mode=False)                 # reset the environment    \n",
    "#     g_states = env_info[g_brain_name].vector_observations  # get initial state (goalies)\n",
    "#     s_states = env_info[s_brain_name].vector_observations  # get initial state (strikers)\n",
    "#     g_scores = np.zeros(num_g_agents)                      # initialize the score (goalies)\n",
    "#     s_scores = np.zeros(num_s_agents)                      # initialize the score (strikers)\n",
    "#     while True:\n",
    "#         # select actions and send to environment\n",
    "#         g_actions = np.random.randint(g_action_size, size=num_g_agents)\n",
    "#         s_actions = np.random.randint(s_action_size, size=num_s_agents)\n",
    "#         actions = dict(zip([g_brain_name, s_brain_name], \n",
    "#                            [g_actions, s_actions]))\n",
    "# #         print(actions)\n",
    "#         env_info = env.step(actions)                       \n",
    "        \n",
    "#         # get next states\n",
    "#         g_next_states = env_info[g_brain_name].vector_observations         \n",
    "#         s_next_states = env_info[s_brain_name].vector_observations\n",
    "        \n",
    "#         # get reward and update scores\n",
    "#         g_rewards = env_info[g_brain_name].rewards  \n",
    "#         s_rewards = env_info[s_brain_name].rewards\n",
    "#         g_scores += g_rewards\n",
    "#         s_scores += s_rewards\n",
    "        \n",
    "#         # check if episode finished\n",
    "#         done = np.any(env_info[g_brain_name].local_done)  \n",
    "        \n",
    "#         # roll over states to next time step\n",
    "#         g_states = g_next_states\n",
    "#         s_states = s_next_states\n",
    "        \n",
    "#         # exit loop if episode finished\n",
    "#         if done:                                           \n",
    "#             break\n",
    "#     print('Scores from episode {}: {} (goalies), {} (strikers)'.format(i+1, g_scores, s_scores))"
   ]
  },
  {
   "cell_type": "markdown",
   "metadata": {},
   "source": [
    "When finished, you can close the environment."
   ]
  },
  {
   "cell_type": "code",
   "execution_count": 7,
   "metadata": {},
   "outputs": [],
   "source": [
    "# env.close()"
   ]
  },
  {
   "cell_type": "markdown",
   "metadata": {},
   "source": [
    "### 4. It's Your Turn!\n",
    "\n",
    "Now it's your turn to train your own agent to solve the environment!  When training the environment, set `train_mode=True`, so that the line for resetting the environment looks like the following:\n",
    "```python\n",
    "env_info = env.reset(train_mode=True)[brain_name]\n",
    "```"
   ]
  },
  {
   "cell_type": "code",
   "execution_count": 8,
   "metadata": {},
   "outputs": [],
   "source": [
    "# !pip -q install regex"
   ]
  },
  {
   "cell_type": "code",
   "execution_count": 16,
   "metadata": {},
   "outputs": [],
   "source": [
    "from ddpg_agent_soccer import Agent\n",
    "import os\n",
    "import regex\n",
    "from collections import deque\n",
    "import torch\n",
    "import matplotlib.pyplot as plt\n",
    "%matplotlib inline\n",
    "import copy"
   ]
  },
  {
   "cell_type": "code",
   "execution_count": 17,
   "metadata": {},
   "outputs": [],
   "source": [
    "def save_file(project_name, ext=\"pth\"):\n",
    "    file_number = []\n",
    "    for file in os.listdir():\n",
    "        if regex.match(r\"{}\".format(\"{}.*.{}\".format(project_name, ext)), file):\n",
    "            extract = regex.search(r'[0-9][0-9]', file)\n",
    "            if file[extract.span()[0]] == \"0\":\n",
    "                file_number.append(int(file[extract.span()[1]-1]))\n",
    "            else:\n",
    "                file_number.append(int(\"{}{}\".format(file[extract.span()[0]],file[extract.span()[1]-1])))\n",
    "            \n",
    "            file_number.sort()\n",
    "            file_number.reverse()\n",
    "#             print(file_number)\n",
    "            \n",
    "            if file_number[0] < 9:\n",
    "                file_name = \"{}_0{}.{}\".format(project_name, file_number[0]+1, ext)\n",
    "            else:\n",
    "                file_name = \"{}_{}.{}\".format(project_name, file_number[0]+1, ext)\n",
    "\n",
    "    if len(file_number) == 0:\n",
    "        file_name = \"{}_00.{}\".format(project_name, ext)\n",
    "    \n",
    "    print(\"Latest file name should be {}\".format(file_name))\n",
    "    return file_name"
   ]
  },
  {
   "cell_type": "code",
   "execution_count": 18,
   "metadata": {},
   "outputs": [],
   "source": [
    "seed = 1 # Seed for random control\n",
    "g_agent = Agent(g_state_size, g_action_size, seed, num_g_agents)\n",
    "s_agent = Agent(s_state_size, s_action_size, seed, num_s_agents)"
   ]
  },
  {
   "cell_type": "code",
   "execution_count": 33,
   "metadata": {},
   "outputs": [],
   "source": [
    "def ddpg(n_episodes=10000, max_t=1000):\n",
    "    \n",
    "    scores_deque = deque(maxlen=100)\n",
    "    scores = []\n",
    "    BATCH_SIZE = 128\n",
    "    g_actor_pth = save_file(\"p3_soccer_g_actor\", ext=\"pth\")\n",
    "    g_critic_pth = save_file(\"p3_soccer_g_critic\", ext=\"pth\")\n",
    "    s_actor_pth = save_file(\"p3_soccer_s_actor\", ext=\"pth\")\n",
    "    s_critic_pth = save_file(\"p3_soccer_s_critic\", ext=\"pth\")\n",
    "    scored_hit = False\n",
    "    \n",
    "    i_episode = 0\n",
    "    while True:\n",
    "        i_episode += 1\n",
    "#     for i_episode in range(1, n_episodes+1):\n",
    "        env_info = env.reset(train_mode=True)                  # reset the environment    \n",
    "        g_states = env_info[g_brain_name].vector_observations  # get initial state (goalies)\n",
    "        s_states = env_info[s_brain_name].vector_observations  # get initial state (strikers)\n",
    "        g_scores = np.zeros(num_g_agents)                      # initialize the score (goalies)\n",
    "        s_scores = np.zeros(num_s_agents)                      # initialize the score (strikers)\n",
    "        g_agent.reset()\n",
    "        s_agent.reset()\n",
    "        for t in range(max_t):\n",
    "#         while True:\n",
    "            g_actions = g_agent.act(g_states, t)\n",
    "            s_actions = s_agent.act(s_states, t)\n",
    "            actions = dict(zip([g_brain_name, s_brain_name],\n",
    "                               [np.argmax(g_actions,1), np.argmax(s_actions,1)])) # select an action (for each agent)\n",
    "            env_info = env.step(actions)                       # send all actions to tne environment\n",
    "            # get next states\n",
    "            g_next_states = env_info[g_brain_name].vector_observations         \n",
    "            s_next_states = env_info[s_brain_name].vector_observations\n",
    "\n",
    "            # get reward and update scores\n",
    "            # g_rewards = env_info[g_brain_name].rewards\n",
    "            g_rewards = [g + s for g, s in zip(env_info[g_brain_name].rewards, env_info[s_brain_name].rewards)]\n",
    "            s_rewards = env_info[s_brain_name].rewards\n",
    "            \n",
    "            # check if episode finished\n",
    "            done = np.any(env_info[g_brain_name].local_done)  \n",
    "            g_scores += g_rewards\n",
    "            s_scores += s_rewards\n",
    "            \n",
    "            \n",
    "            \n",
    "            # roll over states to next time step\n",
    "            g_states = g_next_states\n",
    "            s_states = s_next_states\n",
    "            \n",
    "            g_agent.step(g_states, g_actions, g_rewards, g_next_states, done, t)\n",
    "            s_agent.step(s_states, s_actions, s_rewards, s_next_states, done, t)\n",
    "\n",
    "            # exit loop if episode finished\n",
    "            if done:                                           \n",
    "                break\n",
    "                \n",
    "        score = np.add(g_rewards, s_rewards)\n",
    "        scores_deque.append(max(score))\n",
    "        scores.append(max(score))\n",
    "        \n",
    "        print('\\r Scores from episode {}: score:{:2f} - {} (goalies), {} (strikers)'.format(i_episode, np.mean(scores_deque), \n",
    "                                                                                         g_scores, s_scores), end=\"\")\n",
    "        if i_episode % 100 == 0:\n",
    "            print('\\r Scores from episode {}: score:{:2f} - {} (goalies), {} (strikers)'.format(i_episode, np.mean(scores_deque), \n",
    "                                                                                         g_scores, s_scores))\n",
    "        \n",
    "        if np.mean(scores_deque) >= 2 and len(scores_deque) >= 100:\n",
    "            print('\\r Scores achieved at episode {}: score:{:2f} - {} (goalies), {} (strikers)'.format(i_episode, np.mean(scores_deque), \n",
    "                                                                                         g_scores, s_scores))\n",
    "            torch.save(g_agent.actor_local.state_dict(), g_actor_pth)\n",
    "            torch.save(g_agent.critic_local.state_dict(), g_critic_pth)\n",
    "\n",
    "            torch.save(s_agent.actor_local.state_dict(), s_actor_pth)\n",
    "            torch.save(s_agent.critic_local.state_dict(), s_critic_pth)\n",
    "        \n",
    "            # At the end of training with no luck\n",
    "        #     print(\"No luck in solving the CC problem with {} episode\".format(n_episodes))\n",
    "\n",
    "            fig = plt.figure()\n",
    "            ax = fig.add_subplot(111)\n",
    "            plt.plot(np.arange(1, len(scores)+1), scores)\n",
    "            plt.ylabel('Score')\n",
    "            plt.xlabel('Episode #')\n",
    "            plt.savefig('{}'.format(save_file(\"p3_soccer_score_plt\", ext=\"png\")))\n",
    "            plt.show()\n",
    "            \n",
    "            return scores, g_agent, s_agent\n",
    "    \n",
    "    print(\"No luck in solving the game with {} episode\".format(n_episodes))\n",
    "\n",
    "    return scores, g_agent, s_agent\n",
    "\n"
   ]
  },
  {
   "cell_type": "code",
   "execution_count": null,
   "metadata": {},
   "outputs": [
    {
     "name": "stdout",
     "output_type": "stream",
     "text": [
      "Latest file name should be p3_soccer_g_actor_05.pth\n",
      "Latest file name should be p3_soccer_g_critic_05.pth\n",
      "Latest file name should be p3_soccer_s_actor_05.pth\n",
      "Latest file name should be p3_soccer_s_critic_05.pth\n",
      " Scores from episode 4: score:1.5733333933749236 - [-1.10000006  1.10000006] (goalies), [-0.41833334  0.68166672] (strikers)"
     ]
    }
   ],
   "source": [
    "scores, g_agent, s_agent = ddpg()"
   ]
  },
  {
   "cell_type": "code",
   "execution_count": null,
   "metadata": {},
   "outputs": [],
   "source": []
  },
  {
   "cell_type": "code",
   "execution_count": null,
   "metadata": {},
   "outputs": [],
   "source": []
  },
  {
   "cell_type": "code",
   "execution_count": null,
   "metadata": {},
   "outputs": [],
   "source": []
  }
 ],
 "metadata": {
  "kernelspec": {
   "display_name": "drlnd",
   "language": "python",
   "name": "drlnd"
  },
  "language_info": {
   "codemirror_mode": {
    "name": "ipython",
    "version": 3
   },
   "file_extension": ".py",
   "mimetype": "text/x-python",
   "name": "python",
   "nbconvert_exporter": "python",
   "pygments_lexer": "ipython3",
   "version": "3.6.6"
  }
 },
 "nbformat": 4,
 "nbformat_minor": 2
}
